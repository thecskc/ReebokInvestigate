{
 "cells": [
  {
   "cell_type": "code",
   "execution_count": null,
   "metadata": {
    "collapsed": true
   },
   "outputs": [],
   "source": [
    "import pandas as pd\n",
    "import matplotlib.pyplot as plt\n",
    "from matplotlib import rcParams\n",
    "import seaborn as sb"
   ]
  },
  {
   "cell_type": "code",
   "execution_count": null,
   "metadata": {},
   "outputs": [
    {
     "data": {
      "text/plain": [
       "-97      3\n",
       "-90      1\n",
       "-88      1\n",
       "-84      4\n",
       "-82      3\n",
       "-81     39\n",
       "-80    928\n",
       "-79     90\n",
       "-78    181\n",
       "-69      1\n",
       "-58     98\n",
       "-57     12\n",
       "-56      6\n",
       "-55      3\n",
       "-54      1\n",
       "-53      7\n",
       "-49      2\n",
       "-48      1\n",
       "-47      5\n",
       "-46      6\n",
       "-45      2\n",
       "-44      3\n",
       "-42     39\n",
       "-41      2\n",
       "-40      5\n",
       "-39      7\n",
       "-38      8\n",
       "-35      3\n",
       "-33      2\n",
       "-32      2\n",
       "      ... \n",
       "-7       9\n",
       "-6      11\n",
       "-5       9\n",
       "-4      15\n",
       "-3      10\n",
       "-2       4\n",
       "-1      92\n",
       " 0      55\n",
       " 1      16\n",
       " 2       1\n",
       " 3       1\n",
       " 6       2\n",
       " 7       1\n",
       " 8       2\n",
       " 11      2\n",
       " 14      1\n",
       " 15      1\n",
       " 16      1\n",
       " 18      1\n",
       " 19      1\n",
       " 24      6\n",
       " 25      2\n",
       " 26      2\n",
       " 28      1\n",
       " 30      3\n",
       " 31     53\n",
       " 32     23\n",
       " 33      6\n",
       " 34     20\n",
       " 35      3\n",
       "Name: Number of days from obtaining feed file vs Number of items uploaded in database, Length: 80, dtype: int64"
      ]
     },
     "execution_count": 2,
     "metadata": {},
     "output_type": "execute_result"
    }
   ],
   "source": [
    "file = pd.read_csv(\"batch7.csv\")\n",
    "num_dict = {}\n",
    "file.columns = [\"url\",\"difference\"]\n",
    "file.head()\n",
    "for diff in file[\"difference\"]:\n",
    "    if(num_dict.get(diff,None)==None):\n",
    "        num_dict[diff]=1\n",
    "    else:\n",
    "        num_dict[diff]+=1\n",
    "        \n",
    "table = pd.Series(data=num_dict)\n",
    "table.name = \"Number of days from obtaining feed file vs Number of items uploaded in database\"\n",
    "table.to_csv(path=\"batch7_report.csv\")\n",
    "table"
   ]
  },
  {
   "cell_type": "code",
   "execution_count": 3,
   "metadata": {},
   "outputs": [
    {
     "name": "stdout",
     "output_type": "stream",
     "text": [
      "('Number of files ingested at the time of obtaining feed - ', 1838)\n",
      "{0: 1838, 1: 16, 2: 1, 3: 1, 6: 2, 7: 1, 8: 2, 11: 2, 33: 6, 14: 1, 15: 1, 16: 1, 18: 1, 19: 1, 24: 6, 25: 2, 26: 2, 28: 1, 30: 3, 32: 23, 34: 20, 35: 3, 31: 53}\n"
     ]
    },
    {
     "data": {
      "image/png": "[encoded data removed]",
      "text/plain": [
       "<matplotlib.figure.Figure at 0x116e66f10>"
      ]
     },
     "metadata": {},
     "output_type": "display_data"
    }
   ],
   "source": [
    "for key in num_dict.keys():\n",
    "    if(key<0):\n",
    "        num_dict[0] += num_dict.get(key)\n",
    "        \n",
    "less_than_zero = list()\n",
    "for key in num_dict.keys():\n",
    "    if(key<0):\n",
    "        less_than_zero.append(key)\n",
    "for less in less_than_zero:\n",
    "    num_dict.pop(less)\n",
    "    \n",
    "    \n",
    "number_at_zero = num_dict.get(0)\n",
    "print(\"Number of files ingested at the time of obtaining feed - \",number_at_zero)\n",
    "\n",
    "        \n",
    "print(num_dict)\n",
    "num_dict_keys_x = num_dict.keys()\n",
    "num_dict_values_y = num_dict.values()\n",
    "\n",
    "\n",
    "\n",
    "sorted_y_values = sorted(num_dict_values_y)\n",
    "\n",
    "height_limit = (sorted_y_values[len(sorted_y_values)-2])+5\n",
    "max_value = sorted_y_values[len(sorted_y_values)-1]\n",
    "\n",
    "above_limits_dict = dict()\n",
    "for key in num_dict.keys():\n",
    "    if(num_dict.get(key)>height_limit):\n",
    "        above_limits_dict[key] = num_dict.get(key)\n",
    "        num_dict[key] = height_limit\n",
    "        \n",
    "num_dict_keys_x = num_dict.keys()\n",
    "num_dict_values_y = num_dict.values()\n",
    "\n",
    "\n",
    "plt.bar(num_dict_keys_x,num_dict_values_y)\n",
    "figure = plt.gcf()\n",
    "plt.xlabel(\"Days from obtaining feed file\")\n",
    "plt.ylabel(\"Number of items in database\")\n",
    "# when saving, specify the DPI\n",
    "\n",
    "plt.savefig(\"batch7.png\", dpi = 100)\n",
    "plt.show()\n",
    "\n",
    "# plt.plot(num_dict_keys_x,num_dict_values_y)\n",
    "# plt.show()"
   ]
  }
 ],
 "metadata": {
  "kernelspec": {
   "display_name": "Python 2",
   "language": "python",
   "name": "python2"
  },
  "language_info": {
   "codemirror_mode": {
    "name": "ipython",
    "version": 2.0
   },
   "file_extension": ".py",
   "mimetype": "text/x-python",
   "name": "python",
   "nbconvert_exporter": "python",
   "pygments_lexer": "ipython2",
   "version": "2.7.13"
  }
 },
 "nbformat": 4,
 "nbformat_minor": 0
}